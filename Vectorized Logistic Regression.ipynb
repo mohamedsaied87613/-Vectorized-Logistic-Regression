{
 "cells": [
  {
   "cell_type": "code",
   "execution_count": 128,
   "metadata": {
    "collapsed": true
   },
   "outputs": [],
   "source": [
    "import numpy as np"
   ]
  },
  {
   "cell_type": "code",
   "execution_count": 173,
   "outputs": [],
   "source": [
    "x=np.array([\n",
    "    [1,2,3,6,7,9],\n",
    "    [1,4,76,132,4,88],\n",
    "    [1,25,38,65,73,91],\n",
    "    [1222,21,355,643,7132,129]\n",
    "])                                              #4x6\n",
    "y=np.array([[1,0,0,1]]).transpose()             #4x1\n",
    "weights=np.zeros((6,1))                         #6x1"
   ],
   "metadata": {
    "collapsed": false
   }
  },
  {
   "cell_type": "code",
   "execution_count": 174,
   "outputs": [],
   "source": [
    "def sigmoid(z):\n",
    "    return 1/(1+np.exp(-z))"
   ],
   "metadata": {
    "collapsed": false
   }
  },
  {
   "cell_type": "code",
   "execution_count": 175,
   "outputs": [],
   "source": [
    "def cost(g_x,y):\n",
    "    epsilon = 1e-8\n",
    "    return np.matmul((y.transpose()), ( np.log(g_x+epsilon) )) + np.matmul(    (1-y.transpose()), (np.log(1-g_x+epsilon)))#/-y.shape[0]"
   ],
   "metadata": {
    "collapsed": false
   }
  },
  {
   "cell_type": "code",
   "execution_count": 180,
   "outputs": [
    {
     "name": "stdout",
     "output_type": "stream",
     "text": [
      "[[-2.77258864]]\n",
      "[[-2.11913728]]\n",
      "[[-2.27386693]]\n",
      "[[-2.16211447]]\n",
      "[[-2.28781898]]\n",
      "[[-2.15384268]]\n",
      "[[-2.30216479]]\n",
      "[[-2.14678391]]\n",
      "[[-2.31481498]]\n",
      "[[-2.14144319]]\n",
      "[[-2.32439855]]\n",
      "[[-2.13787885]]\n",
      "[[-2.33069343]]\n",
      "[[-2.13574251]]\n",
      "[[-2.33438602]]\n",
      "[[-2.13456001]]\n",
      "[[-2.33639281]]\n",
      "[[-2.13393839]]\n",
      "[[-2.33743489]]\n",
      "[[-2.13362131]]\n"
     ]
    }
   ],
   "source": [
    "def gradient_descent(x,y,weights,lr=0.000001,it=10):\n",
    "    for i in range(20):\n",
    "        z=np.matmul(x,weights)        #x.weights + b\n",
    "        g_x=sigmoid(z)\n",
    "        weights=(weights  - lr * np.matmul(x.transpose(),(g_x-y))  )/y.shape[0]\n",
    "        print(cost(g_x,y))\n",
    "gradient_descent(x,y,weights)"
   ],
   "metadata": {
    "collapsed": false
   }
  }
 ],
 "metadata": {
  "kernelspec": {
   "display_name": "Python 3",
   "language": "python",
   "name": "python3"
  },
  "language_info": {
   "codemirror_mode": {
    "name": "ipython",
    "version": 2
   },
   "file_extension": ".py",
   "mimetype": "text/x-python",
   "name": "python",
   "nbconvert_exporter": "python",
   "pygments_lexer": "ipython2",
   "version": "2.7.6"
  }
 },
 "nbformat": 4,
 "nbformat_minor": 0
}
