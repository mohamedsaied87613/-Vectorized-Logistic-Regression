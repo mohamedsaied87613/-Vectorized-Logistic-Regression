{
 "cells": [
  {
   "cell_type": "code",
   "execution_count": 20,
   "metadata": {
    "collapsed": true
   },
   "outputs": [],
   "source": [
    "import numpy as np\n",
    "from sklearn.model_selection import train_test_split\n",
    "import pandas as pd\n",
    "from sklearn.datasets import make_classification"
   ]
  },
  {
   "cell_type": "code",
   "execution_count": 21,
   "outputs": [],
   "source": [
    "x,y=make_classification(n_samples=100000,n_classes=2)\n",
    "y=y.reshape(x.shape[0],1)"
   ],
   "metadata": {
    "collapsed": false
   }
  },
  {
   "cell_type": "code",
   "execution_count": 22,
   "outputs": [],
   "source": [
    "x_train,x_test,y_train,y_test= train_test_split(x,y,test_size=0.3,random_state=2)\n",
    "x_train=np.array(x_train)\n",
    "x_test=np.array(x_test)\n",
    "y_train=np.array(y_train).reshape(y_train.shape[0],1)\n",
    "y_test=np.array(y_test).reshape(y_test.shape[0],1)"
   ],
   "metadata": {
    "collapsed": false
   }
  },
  {
   "cell_type": "code",
   "execution_count": 31,
   "outputs": [],
   "source": [
    "def sigmoid(z):\n",
    "    return np.round(1/(1+np.exp(-z))).astype(int)"
   ],
   "metadata": {
    "collapsed": false
   }
  },
  {
   "cell_type": "code",
   "execution_count": 32,
   "outputs": [],
   "source": [
    "def cost(g_x,y):\n",
    "    epsilon = 1e-8\n",
    "    return np.matmul(   (y.transpose()), ( np.log(g_x+epsilon) )) + np.matmul(    (1-y).transpose(), (np.log((1+epsilon)-g_x)))   /   -y.shape[0]"
   ],
   "metadata": {
    "collapsed": false
   }
  },
  {
   "cell_type": "code",
   "execution_count": 43,
   "outputs": [],
   "source": [
    "weights=np.ones((x_train.shape[1],1))\n",
    "def gradient_descent(x,y,weights,lr=0.001,it=10000):\n",
    "    for i in range(it):\n",
    "        z=np.matmul(x,weights)        #x.weights + b\n",
    "        g_x=sigmoid(z)\n",
    "        grad =  (np.matmul( x.transpose(),(g_x-y)) ) / y.shape[0]\n",
    "        weights= weights  - lr * grad\n",
    "    return weights\n",
    "weights=gradient_descent(np.array(x_train),np.array(y_train).reshape(y_train.shape[0],1),weights)"
   ],
   "metadata": {
    "collapsed": false
   }
  },
  {
   "cell_type": "code",
   "execution_count": 45,
   "outputs": [
    {
     "name": "stdout",
     "output_type": "stream",
     "text": [
      "samples =  70000\n",
      "correct o/p =  63123\n",
      "accuracy =  90.17571428571428\n"
     ]
    }
   ],
   "source": [
    "predicted=sigmoid(np.matmul(x_train,weights))\n",
    "count = np.sum(predicted == y_train)\n",
    "print(\"samples = \",predicted.shape[0])\n",
    "print(\"correct o/p = \",count)\n",
    "print(\"accuracy = \",(count/predicted.shape[0])*100)"
   ],
   "metadata": {
    "collapsed": false
   }
  }
 ],
 "metadata": {
  "kernelspec": {
   "display_name": "Python 3",
   "language": "python",
   "name": "python3"
  },
  "language_info": {
   "codemirror_mode": {
    "name": "ipython",
    "version": 2
   },
   "file_extension": ".py",
   "mimetype": "text/x-python",
   "name": "python",
   "nbconvert_exporter": "python",
   "pygments_lexer": "ipython2",
   "version": "2.7.6"
  }
 },
 "nbformat": 4,
 "nbformat_minor": 0
}
